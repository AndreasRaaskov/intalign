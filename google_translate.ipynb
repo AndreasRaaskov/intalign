{
 "cells": [
  {
   "cell_type": "code",
   "execution_count": 43,
   "metadata": {},
   "outputs": [],
   "source": [
    "import requests\n",
    "import dotenv\n",
    "from requests.auth import HTTPBasicAuth\n",
    "from typing import List"
   ]
  },
  {
   "cell_type": "code",
   "execution_count": 44,
   "metadata": {},
   "outputs": [],
   "source": [
    "keys = dotenv.dotenv_values(\"keys.env\")\n",
    "translate_api_key = keys[\"TRANSLATE_API_KEY\"]"
   ]
  },
  {
   "cell_type": "code",
   "execution_count": 45,
   "metadata": {},
   "outputs": [],
   "source": [
    "def translate(\n",
    "    text: List[str] | str, source_language: str, target_language: str\n",
    ") -> List[str] | str:\n",
    "    translations = requests.post(\n",
    "        \"https://translation.googleapis.com/language/translate/v2\",\n",
    "        params={\n",
    "            \"q\": text,\n",
    "            \"target\": target_language,\n",
    "            \"format\": \"text\",\n",
    "            \"source\": source_language,\n",
    "            \"key\": translate_api_key,\n",
    "        },\n",
    "    ).json()[\"data\"][\"translations\"]\n",
    "    return [translation[\"translatedText\"] for translation in translations]\n",
    "\n",
    "\n",
    "def translate_single(text: str, source_language: str, target_language: str) -> str:\n",
    "    return translate(text, source_language, target_language)[0]"
   ]
  },
  {
   "cell_type": "code",
   "execution_count": 46,
   "metadata": {},
   "outputs": [
    {
     "data": {
      "text/plain": [
       "\"I'm old\""
      ]
     },
     "execution_count": 46,
     "metadata": {},
     "output_type": "execute_result"
    }
   ],
   "source": [
    "translate_single(\"Jeg er gammel\", \"da\", \"en\")"
   ]
  }
 ],
 "metadata": {
  "kernelspec": {
   "display_name": "transformer",
   "language": "python",
   "name": "python3"
  },
  "language_info": {
   "codemirror_mode": {
    "name": "ipython",
    "version": 3
   },
   "file_extension": ".py",
   "mimetype": "text/x-python",
   "name": "python",
   "nbconvert_exporter": "python",
   "pygments_lexer": "ipython3",
   "version": "3.11.3"
  },
  "orig_nbformat": 4
 },
 "nbformat": 4,
 "nbformat_minor": 2
}
